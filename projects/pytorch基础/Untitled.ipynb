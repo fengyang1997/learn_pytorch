{
 "cells": [
  {
   "cell_type": "markdown",
   "metadata": {},
   "source": [
    "# 1.数据类型"
   ]
  },
  {
   "cell_type": "markdown",
   "metadata": {},
   "source": [
    "1.python数据类型对应的pytorch数据类型\n",
    "\n",
    "Int对应IntTensor of size()\n",
    "\n",
    "Int array对应IntTensor of size[,,,]\n",
    "\n",
    "string在pytorch中没有直接支持，需要用one-hot编码，或者Embedding(用数字表示语言）\n",
    "\n",
    "torch.FloatTensor(cpu运算类型)  torch.cuda.FloatTensor（gpu运算类型） \n",
    "\n",
    "torch.DoubleTensor\n",
    "\n",
    "torch.ByteTensor"
   ]
  },
  {
   "cell_type": "code",
   "execution_count": 56,
   "metadata": {},
   "outputs": [
    {
     "name": "stdout",
     "output_type": "stream",
     "text": [
      "tensor([[-0.8061,  0.5123, -0.8278],\n",
      "        [ 0.3666, -0.6980, -1.0683]])\n",
      "<class 'torch.Tensor'>\n"
     ]
    },
    {
     "data": {
      "text/plain": [
       "True"
      ]
     },
     "execution_count": 56,
     "metadata": {},
     "output_type": "execute_result"
    }
   ],
   "source": [
    "import torch\n",
    "import numpy as np\n",
    "a = torch.randn(2,3)#torch.randn随机创建正态分布的数组\n",
    "print(a)\n",
    "print(type(a))\n",
    "isinstance(a,torch.FloatTensor)"
   ]
  },
  {
   "cell_type": "code",
   "execution_count": 57,
   "metadata": {},
   "outputs": [
    {
     "data": {
      "text/plain": [
       "True"
      ]
     },
     "execution_count": 57,
     "metadata": {},
     "output_type": "execute_result"
    }
   ],
   "source": [
    "a = a.cuda()\n",
    "isinstance(a,torch.cuda.FloatTensor)"
   ]
  },
  {
   "cell_type": "markdown",
   "metadata": {},
   "source": [
    "# 1.1标量表示"
   ]
  },
  {
   "cell_type": "code",
   "execution_count": 58,
   "metadata": {},
   "outputs": [],
   "source": [
    "b = torch.tensor(1.3)#pytorch中的标量表示方法"
   ]
  },
  {
   "cell_type": "code",
   "execution_count": 59,
   "metadata": {},
   "outputs": [
    {
     "data": {
      "text/plain": [
       "torch.Size([])"
      ]
     },
     "execution_count": 59,
     "metadata": {},
     "output_type": "execute_result"
    }
   ],
   "source": [
    "b.shape"
   ]
  },
  {
   "cell_type": "code",
   "execution_count": 60,
   "metadata": {},
   "outputs": [
    {
     "data": {
      "text/plain": [
       "0"
      ]
     },
     "execution_count": 60,
     "metadata": {},
     "output_type": "execute_result"
    }
   ],
   "source": [
    "len(b.shape)"
   ]
  },
  {
   "cell_type": "code",
   "execution_count": 61,
   "metadata": {},
   "outputs": [
    {
     "data": {
      "text/plain": [
       "torch.Size([])"
      ]
     },
     "execution_count": 61,
     "metadata": {},
     "output_type": "execute_result"
    }
   ],
   "source": [
    "b.size()"
   ]
  },
  {
   "cell_type": "markdown",
   "metadata": {},
   "source": [
    "# 1.2张量"
   ]
  },
  {
   "cell_type": "code",
   "execution_count": 62,
   "metadata": {},
   "outputs": [
    {
     "data": {
      "text/plain": [
       "1"
      ]
     },
     "execution_count": 62,
     "metadata": {},
     "output_type": "execute_result"
    }
   ],
   "source": [
    "torch.tensor([1.1])#只有一个元素的向量\n",
    "torch.tensor([1,2])#有两个元素的向量\n",
    "torch.FloatTensor(2)#定义一个长度为2的向量，元素类型为float,值正态随机\n",
    "data = np.ones(2)\n",
    "data = torch.from_numpy(data)#将numpy中的数组转换为tensor类型\n",
    "data.dim()"
   ]
  },
  {
   "cell_type": "code",
   "execution_count": 63,
   "metadata": {},
   "outputs": [],
   "source": [
    "b = torch.randn(2,3)"
   ]
  },
  {
   "cell_type": "code",
   "execution_count": 64,
   "metadata": {},
   "outputs": [
    {
     "data": {
      "text/plain": [
       "2"
      ]
     },
     "execution_count": 64,
     "metadata": {},
     "output_type": "execute_result"
    }
   ],
   "source": [
    "b.dim()"
   ]
  },
  {
   "cell_type": "code",
   "execution_count": 65,
   "metadata": {},
   "outputs": [
    {
     "data": {
      "text/plain": [
       "torch.Size([2, 3])"
      ]
     },
     "execution_count": 65,
     "metadata": {},
     "output_type": "execute_result"
    }
   ],
   "source": [
    "b.size()"
   ]
  },
  {
   "cell_type": "code",
   "execution_count": 66,
   "metadata": {},
   "outputs": [
    {
     "data": {
      "text/plain": [
       "torch.Size([2, 3])"
      ]
     },
     "execution_count": 66,
     "metadata": {},
     "output_type": "execute_result"
    }
   ],
   "source": [
    "b.shape"
   ]
  },
  {
   "cell_type": "code",
   "execution_count": 67,
   "metadata": {},
   "outputs": [
    {
     "data": {
      "text/plain": [
       "2"
      ]
     },
     "execution_count": 67,
     "metadata": {},
     "output_type": "execute_result"
    }
   ],
   "source": [
    "b.size(0)"
   ]
  },
  {
   "cell_type": "code",
   "execution_count": 68,
   "metadata": {},
   "outputs": [
    {
     "data": {
      "text/plain": [
       "3"
      ]
     },
     "execution_count": 68,
     "metadata": {},
     "output_type": "execute_result"
    }
   ],
   "source": [
    "b.size(1)"
   ]
  },
  {
   "cell_type": "code",
   "execution_count": 69,
   "metadata": {},
   "outputs": [
    {
     "data": {
      "text/plain": [
       "6"
      ]
     },
     "execution_count": 69,
     "metadata": {},
     "output_type": "execute_result"
    }
   ],
   "source": [
    "b.numel()#占用的内存"
   ]
  },
  {
   "cell_type": "markdown",
   "metadata": {},
   "source": [
    "# 1.3数据的创建"
   ]
  },
  {
   "cell_type": "code",
   "execution_count": 70,
   "metadata": {},
   "outputs": [],
   "source": [
    "a = np.array([1,2])"
   ]
  },
  {
   "cell_type": "code",
   "execution_count": 71,
   "metadata": {},
   "outputs": [
    {
     "data": {
      "text/plain": [
       "tensor([1, 2], dtype=torch.int32)"
      ]
     },
     "execution_count": 71,
     "metadata": {},
     "output_type": "execute_result"
    }
   ],
   "source": [
    "torch.from_numpy(a)"
   ]
  },
  {
   "cell_type": "code",
   "execution_count": 72,
   "metadata": {},
   "outputs": [],
   "source": [
    "a = np.ones([2,3])"
   ]
  },
  {
   "cell_type": "code",
   "execution_count": 73,
   "metadata": {},
   "outputs": [
    {
     "data": {
      "text/plain": [
       "tensor([[1., 1., 1.],\n",
       "        [1., 1., 1.]], dtype=torch.float64)"
      ]
     },
     "execution_count": 73,
     "metadata": {},
     "output_type": "execute_result"
    }
   ],
   "source": [
    "torch.from_numpy(a)"
   ]
  },
  {
   "cell_type": "code",
   "execution_count": 74,
   "metadata": {},
   "outputs": [
    {
     "data": {
      "text/plain": [
       "tensor([1., 5.])"
      ]
     },
     "execution_count": 74,
     "metadata": {},
     "output_type": "execute_result"
    }
   ],
   "source": [
    "torch.tensor([1,2])#小写的tensor,接受现有的数据，大写的是接受shape或数据\n",
    "torch.FloatTensor(3,5)\n",
    "torch.FloatTensor([1,5])"
   ]
  },
  {
   "cell_type": "code",
   "execution_count": 75,
   "metadata": {},
   "outputs": [
    {
     "data": {
      "text/plain": [
       "tensor([[[[6.4803e-40, 4.9138e-39, 1.2518e-40,  ..., 1.3313e-40,\n",
       "           1.3313e-40, 9.9801e-39],\n",
       "          [9.9542e-39, 9.6533e-39, 9.6546e-39,  ..., 2.6018e-39,\n",
       "           2.6045e-39, 2.6064e-39],\n",
       "          [2.6083e-39, 2.6101e-39, 2.6117e-39,  ..., 1.3614e-40,\n",
       "           1.3621e-40, 1.3623e-40],\n",
       "          ...,\n",
       "          [1.2332e+01, 1.2328e+01, 1.0314e-08,  ..., 4.4721e+21,\n",
       "           5.1607e+10, 1.2078e+01],\n",
       "          [7.7582e-10, 4.1676e-17, 1.2332e+01,  ..., 7.7140e+31,\n",
       "           2.4776e+32, 2.5148e+32],\n",
       "          [3.9495e+30, 3.6319e+00, 3.8189e+00,  ..., 3.0346e+00,\n",
       "           1.3781e+19, 6.8398e+25]]],\n",
       "\n",
       "\n",
       "        [[[3.8186e+00, 1.0903e+27, 3.5491e+21,  ..., 7.3972e+31,\n",
       "           4.7429e+30, 3.0064e+00],\n",
       "          [1.4513e+10, 5.3314e+01, 2.7495e+26,  ..., 1.3281e+13,\n",
       "           2.9965e+32, 1.7700e+25],\n",
       "          [7.5592e+28, 3.6311e+00, 7.7089e+31,  ..., 7.7089e+31,\n",
       "           3.0039e+00, 1.5232e+31],\n",
       "          ...,\n",
       "          [2.1734e+05, 1.8461e+25, 1.6883e+25,  ..., 3.0070e+00,\n",
       "           1.2332e+01, 1.1039e+21],\n",
       "          [7.2065e+31, 1.2328e+01, 2.1734e+05,  ..., 1.7700e+25,\n",
       "           7.5592e+28, 3.6311e+00],\n",
       "          [7.7089e+31, 1.2016e+01, 4.9885e-08,  ..., 3.9482e+30,\n",
       "           3.6319e+00, 3.8189e+00]]],\n",
       "\n",
       "\n",
       "        [[[4.4721e+21, 3.0039e+00, 3.5696e+00,  ..., 1.8177e+31,\n",
       "           8.3692e-01, 1.7857e+31],\n",
       "          [1.7699e+31, 1.8062e+28, 1.3486e+13,  ..., 4.1489e-17,\n",
       "           4.4647e+30, 2.7953e+20],\n",
       "          [3.8040e+00, 7.7089e+31, 5.2846e+13,  ..., 2.9174e+32,\n",
       "           1.8465e+25, 4.1727e-17],\n",
       "          ...,\n",
       "          [2.6800e+20, 1.6458e+19, 3.7884e+00,  ..., 5.0138e-01,\n",
       "           3.9103e+03, 4.7427e+30],\n",
       "          [7.7731e+31, 3.5851e+00, 1.0903e+27,  ..., 4.1489e-17,\n",
       "           4.4647e+30, 2.7953e+20],\n",
       "          [3.8040e+00, 7.7089e+31, 5.2846e+13,  ..., 1.7465e+19,\n",
       "           1.7034e+25, 7.6980e+02]]]])"
      ]
     },
     "execution_count": 75,
     "metadata": {},
     "output_type": "execute_result"
    }
   ],
   "source": [
    "torch.FloatTensor(3,1,28,28)#数据未初始化，是随机的，用之前要初始化"
   ]
  },
  {
   "cell_type": "code",
   "execution_count": 76,
   "metadata": {},
   "outputs": [
    {
     "data": {
      "text/plain": [
       "tensor([[7, 5, 8],\n",
       "        [3, 5, 9],\n",
       "        [5, 5, 7]])"
      ]
     },
     "execution_count": 76,
     "metadata": {},
     "output_type": "execute_result"
    }
   ],
   "source": [
    "#随机初始化\n",
    "a = torch.rand(3,3)#元素在0-1间均匀分布\n",
    "b = torch.randn(3,3)#正态分布\n",
    "torch.rand_like(a)#接受一个Tensor,以它的形状创建一个随机的Tensor\n",
    "torch.randint(1,10,[3,3])#创建3*3的元素在1-10，左闭右开"
   ]
  },
  {
   "cell_type": "code",
   "execution_count": 77,
   "metadata": {},
   "outputs": [
    {
     "data": {
      "text/plain": [
       "tensor([[7., 7., 7.],\n",
       "        [7., 7., 7.]])"
      ]
     },
     "execution_count": 77,
     "metadata": {},
     "output_type": "execute_result"
    }
   ],
   "source": [
    "torch.full([2,3],7.0)#元素全部设定为7"
   ]
  },
  {
   "cell_type": "code",
   "execution_count": 78,
   "metadata": {},
   "outputs": [
    {
     "data": {
      "text/plain": [
       "tensor([0, 2, 4, 6, 8])"
      ]
     },
     "execution_count": 78,
     "metadata": {},
     "output_type": "execute_result"
    }
   ],
   "source": [
    "torch.arange(0,10,2)"
   ]
  },
  {
   "cell_type": "code",
   "execution_count": 79,
   "metadata": {},
   "outputs": [
    {
     "data": {
      "text/plain": [
       "tensor([ 0.0000,  3.3333,  6.6667, 10.0000])"
      ]
     },
     "execution_count": 79,
     "metadata": {},
     "output_type": "execute_result"
    }
   ],
   "source": [
    "torch.linspace(0,10,steps=4)"
   ]
  },
  {
   "cell_type": "code",
   "execution_count": 80,
   "metadata": {},
   "outputs": [
    {
     "data": {
      "text/plain": [
       "tensor([1.0000, 0.7743, 0.5995, 0.4642, 0.3594, 0.2783, 0.2154, 0.1668, 0.1292,\n",
       "        0.1000])"
      ]
     },
     "execution_count": 80,
     "metadata": {},
     "output_type": "execute_result"
    }
   ],
   "source": [
    "torch.logspace(0,-1,steps=10)"
   ]
  },
  {
   "cell_type": "code",
   "execution_count": 81,
   "metadata": {},
   "outputs": [
    {
     "data": {
      "text/plain": [
       "tensor([[1., 0., 0.],\n",
       "        [0., 1., 0.],\n",
       "        [0., 0., 1.]])"
      ]
     },
     "execution_count": 81,
     "metadata": {},
     "output_type": "execute_result"
    }
   ],
   "source": [
    "torch.ones(3,3)\n",
    "torch.zeros(3,3)\n",
    "torch.eye(3,3)#对角线全1，其余为0\n",
    "torch.eye(3)"
   ]
  },
  {
   "cell_type": "code",
   "execution_count": 82,
   "metadata": {},
   "outputs": [
    {
     "name": "stdout",
     "output_type": "stream",
     "text": [
      "tensor([[0.7276, 0.8848, 0.7889],\n",
      "        [0.0889, 0.0939, 0.0755]])\n",
      "tensor([[0.5189, 0.5739, 0.9918],\n",
      "        [0.3369, 0.3465, 0.7563]])\n"
     ]
    }
   ],
   "source": [
    "a = torch.rand(2,3)\n",
    "b = torch.rand(2,3)\n",
    "idx = torch.randperm(2)#随机打乱顺序\n",
    "print(a)\n",
    "print(b)"
   ]
  },
  {
   "cell_type": "code",
   "execution_count": 83,
   "metadata": {},
   "outputs": [
    {
     "name": "stdout",
     "output_type": "stream",
     "text": [
      "tensor([[0.0889, 0.0939, 0.0755],\n",
      "        [0.7276, 0.8848, 0.7889]])\n"
     ]
    }
   ],
   "source": [
    "print(a[idx])"
   ]
  },
  {
   "cell_type": "code",
   "execution_count": 84,
   "metadata": {},
   "outputs": [
    {
     "name": "stdout",
     "output_type": "stream",
     "text": [
      "tensor([[0.3369, 0.3465, 0.7563],\n",
      "        [0.5189, 0.5739, 0.9918]])\n"
     ]
    }
   ],
   "source": [
    "print(b[idx])"
   ]
  },
  {
   "cell_type": "code",
   "execution_count": null,
   "metadata": {},
   "outputs": [],
   "source": []
  }
 ],
 "metadata": {
  "kernelspec": {
   "display_name": "Python 3",
   "language": "python",
   "name": "python3"
  },
  "language_info": {
   "codemirror_mode": {
    "name": "ipython",
    "version": 3
   },
   "file_extension": ".py",
   "mimetype": "text/x-python",
   "name": "python",
   "nbconvert_exporter": "python",
   "pygments_lexer": "ipython3",
   "version": "3.8.5"
  }
 },
 "nbformat": 4,
 "nbformat_minor": 4
}
